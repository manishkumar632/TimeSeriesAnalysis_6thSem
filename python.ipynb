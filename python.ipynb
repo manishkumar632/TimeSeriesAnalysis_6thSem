{
 "cells": [
  {
   "cell_type": "code",
   "execution_count": 17,
   "metadata": {},
   "outputs": [
    {
     "name": "stdout",
     "output_type": "stream",
     "text": [
      "Sorry, the correct number was 27\n",
      "Better luck next time!\n"
     ]
    }
   ],
   "source": [
    "# generate random number\n",
    "\n",
    "import random\n",
    "\n",
    "\n",
    "randomNumber = random.randint(1, 100)\n",
    "\n",
    "x = input(\"Enter a number: \")\n",
    "if(x == randomNumber):\n",
    "    print(\"Excellent! you guessed it correctly! :D\")\n",
    "else:\n",
    "    print(\"Sorry, the correct number was\", randomNumber)\n",
    "    print(\"Better luck next time!\")"
   ]
  }
 ],
 "metadata": {
  "kernelspec": {
   "display_name": ".venv",
   "language": "python",
   "name": "python3"
  },
  "language_info": {
   "codemirror_mode": {
    "name": "ipython",
    "version": 3
   },
   "file_extension": ".py",
   "mimetype": "text/x-python",
   "name": "python",
   "nbconvert_exporter": "python",
   "pygments_lexer": "ipython3",
   "version": "3.13.0"
  }
 },
 "nbformat": 4,
 "nbformat_minor": 2
}
